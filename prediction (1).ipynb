{
 "cells": [
  {
   "cell_type": "code",
   "execution_count": 11,
   "metadata": {},
   "outputs": [],
   "source": [
    "import numpy as np\n",
    "from keras.preprocessing import image\n",
    "from tkinter import *\n",
    "from PIL import ImageTk, Image\n",
    "from tkinter import filedialog\n",
    "import os\n",
    "from keras.models import load_model"
   ]
  },
  {
   "cell_type": "code",
   "execution_count": 12,
   "metadata": {},
   "outputs": [],
   "source": [
    "classifier = load_model('model.h5')"
   ]
  },
  {
   "cell_type": "code",
   "execution_count": 13,
   "metadata": {},
   "outputs": [],
   "source": [
    "classifier.compile(optimizer = 'adam', loss = 'categorical_crossentropy', metrics = ['accuracy'])"
   ]
  },
  {
   "cell_type": "code",
   "execution_count": 14,
   "metadata": {},
   "outputs": [
    {
     "name": "stdout",
     "output_type": "stream",
     "text": [
      "a\n"
     ]
    }
   ],
   "source": [
    "print(\"a\")"
   ]
  },
  {
   "cell_type": "code",
   "execution_count": 31,
   "metadata": {},
   "outputs": [
    {
     "name": "stdout",
     "output_type": "stream",
     "text": [
      "[1]\n",
      "blast\n",
      "[0]\n",
      "bacterial leaf blight\n",
      "[2]\n",
      "false smut\n",
      "[3]\n",
      "normal\n",
      "[5]\n",
      "sheath blight\n",
      "[4]\n",
      "rice tungro\n"
     ]
    }
   ],
   "source": [
    "root = Tk()\n",
    "root.geometry(\"550x300+300+150\")\n",
    "root.resizable(width=True, height=True)\n",
    "def openfn():\n",
    "    filename = filedialog.askopenfilename(title='open')\n",
    "    return filename\n",
    "def open_img():\n",
    "    x = openfn()\n",
    "    test_image = image.load_img(x, target_size = (128, 128))\n",
    "    test_image = image.img_to_array(test_image)\n",
    "    test_image = np.expand_dims(test_image, axis = 0)\n",
    "    result = classifier.predict_classes(test_image)\n",
    "    print(result)\n",
    "    index=['bacterial leaf blight','blast','false smut','normal','rice tungro','sheath blight']\n",
    "    print(str(index[result[0]]))\n",
    "    label = Label( root, text=\"Prediction : \"+str(index[result[0]]))\n",
    "    label.pack()\n",
    "    if(result == 0):\n",
    "        text = \"monocrotophos,fenthion\"\n",
    "        label = Label( root, text=\"fertilizers : \"+text).pack()\n",
    "        text=\"Observed 1-3 weeks after transplanting,\\nLeaves wilt and roll up and become grayish green to yellow,\\nEntire plant wilt completely \"\n",
    "        label1= Label( root, text=\"symptoms : \"+text).pack()\n",
    "    if(result == 1):\n",
    "        text = \"carbofuran granules\"\n",
    "        label = Label( root, text=\"fertilizers: \"+text).pack()\n",
    "        text=\"nerotic borders,\\nelliptical shaped,\\nwhitish to gray colour,\\nobserved in above ground parts of plant\"\n",
    "        label1= Label( root, text=\"symptoms : \"+text).pack()\n",
    "    if(result == 2):\n",
    "        text = \"phorate,quinalphos\"\n",
    "        label = Label( root, text=\"fertilizers: \"+text).pack()\n",
    "        text=\"Usually a few grains in a panicle are infected,\\nVisible in between glumes,\\nSmooth yellow colored membrane which bursts at later stage\"\n",
    "        label1= Label( root, text=\"symptoms : \"+text).pack()\n",
    "    if(result == 3):\n",
    "        text = \"\"\n",
    "        label = Label( root, text=\"it is perfect: \"+text).pack()\n",
    "        text=\"\"\n",
    "        label = Label( root, text=\"no symptoms: \"+text).pack()\n",
    "    if(result == 4):\n",
    "        text = \"phosphobacteria\"\n",
    "        label = Label( root, text=\"fertilizers : \"+text).pack()  \n",
    "        text=\"Most panicles sterile or partially filled grains,\\nDelayed flowering, - panicles small and not completely exerted,\\nDiscoloration begins from leaf tip and extends down to the blade or the lower leaf portion\"\n",
    "        label1= Label( root, text=\"symptoms : \"+text).pack()\n",
    "    if(result == 5):\n",
    "        text = \"foliar\"\n",
    "        label = Label( root, text=\"fertilizer : \"+text).pack()  \n",
    "        text=\"oval or ellipsoidal greenish gray lesions,\\nbrown margins as they grow older,\\n the disease is mostly initiated by sclerotia\"\n",
    "        label1= Label( root, text=\"symptoms : \"+text).pack()\n",
    "        \n",
    "    img = Image.open(x)\n",
    "    img = img.resize((250, 250), Image.ANTIALIAS)\n",
    "    img = ImageTk.PhotoImage(img)\n",
    "    panel = Label(root, image=img)\n",
    "    panel.image = img\n",
    "    panel.pack()\n",
    "btn = Button(root, text='open image',command=open_img).pack()\n",
    "root.mainloop()"
   ]
  },
  {
   "cell_type": "code",
   "execution_count": null,
   "metadata": {},
   "outputs": [],
   "source": []
  },
  {
   "cell_type": "code",
   "execution_count": null,
   "metadata": {},
   "outputs": [],
   "source": []
  }
 ],
 "metadata": {
  "kernelspec": {
   "display_name": "Python 3",
   "language": "python",
   "name": "python3"
  },
  "language_info": {
   "codemirror_mode": {
    "name": "ipython",
    "version": 3
   },
   "file_extension": ".py",
   "mimetype": "text/x-python",
   "name": "python",
   "nbconvert_exporter": "python",
   "pygments_lexer": "ipython3",
   "version": "3.7.3"
  }
 },
 "nbformat": 4,
 "nbformat_minor": 2
}
