{
 "cells": [
  {
   "cell_type": "code",
   "execution_count": 1,
   "metadata": {},
   "outputs": [
    {
     "name": "stderr",
     "output_type": "stream",
     "text": [
      "Using TensorFlow backend.\n"
     ]
    }
   ],
   "source": [
    "import keras\n",
    "from keras.models import Sequential\n",
    "from keras.layers import Dense,Conv2D,MaxPooling2D,Flatten"
   ]
  },
  {
   "cell_type": "code",
   "execution_count": 2,
   "metadata": {},
   "outputs": [],
   "source": [
    "model_cnn=Sequential()"
   ]
  },
  {
   "cell_type": "code",
   "execution_count": 3,
   "metadata": {},
   "outputs": [
    {
     "name": "stdout",
     "output_type": "stream",
     "text": [
      "WARNING:tensorflow:From C:\\Users\\SURESH KUMAR\\Anaconda3\\lib\\site-packages\\tensorflow\\python\\framework\\op_def_library.py:263: colocate_with (from tensorflow.python.framework.ops) is deprecated and will be removed in a future version.\n",
      "Instructions for updating:\n",
      "Colocations handled automatically by placer.\n"
     ]
    },
    {
     "name": "stderr",
     "output_type": "stream",
     "text": [
      "C:\\Users\\SURESH KUMAR\\Anaconda3\\lib\\site-packages\\ipykernel_launcher.py:1: UserWarning: Update your `Conv2D` call to the Keras 2 API: `Conv2D(32, (3, 3), input_shape=(128, 128,..., activation=\"relu\")`\n",
      "  \"\"\"Entry point for launching an IPython kernel.\n"
     ]
    }
   ],
   "source": [
    "model_cnn.add(Conv2D(32,3,3,input_shape=(128,128,3),activation='relu'))"
   ]
  },
  {
   "cell_type": "code",
   "execution_count": 4,
   "metadata": {},
   "outputs": [
    {
     "name": "stderr",
     "output_type": "stream",
     "text": [
      "C:\\Users\\SURESH KUMAR\\Anaconda3\\lib\\site-packages\\ipykernel_launcher.py:1: UserWarning: Update your `Conv2D` call to the Keras 2 API: `Conv2D(32, (3, 3), input_shape=(128, 128,..., activation=\"relu\")`\n",
      "  \"\"\"Entry point for launching an IPython kernel.\n"
     ]
    }
   ],
   "source": [
    "model_cnn.add(Conv2D(32,3,3,input_shape=(128,128,3),activation='relu'))"
   ]
  },
  {
   "cell_type": "code",
   "execution_count": 5,
   "metadata": {},
   "outputs": [],
   "source": [
    "model_cnn.add(MaxPooling2D(pool_size=(2,2)))"
   ]
  },
  {
   "cell_type": "code",
   "execution_count": 6,
   "metadata": {},
   "outputs": [],
   "source": [
    "model_cnn.add(MaxPooling2D(pool_size=(2,2)))"
   ]
  },
  {
   "cell_type": "code",
   "execution_count": 7,
   "metadata": {},
   "outputs": [],
   "source": [
    "model_cnn.add(Flatten())"
   ]
  },
  {
   "cell_type": "markdown",
   "metadata": {},
   "source": [
    "# hidden layer"
   ]
  },
  {
   "cell_type": "code",
   "execution_count": 8,
   "metadata": {},
   "outputs": [],
   "source": [
    "model_cnn.add(Dense(200,activation='relu'))"
   ]
  },
  {
   "cell_type": "markdown",
   "metadata": {},
   "source": [
    "# output layer"
   ]
  },
  {
   "cell_type": "code",
   "execution_count": 9,
   "metadata": {},
   "outputs": [],
   "source": [
    "model_cnn.add(Dense(6,activation='softmax'))"
   ]
  },
  {
   "cell_type": "markdown",
   "metadata": {},
   "source": [
    "# compile"
   ]
  },
  {
   "cell_type": "code",
   "execution_count": 10,
   "metadata": {},
   "outputs": [],
   "source": [
    "model_cnn.compile(optimizer='adam',loss='categorical_crossentropy',metrics=['accuracy'])"
   ]
  },
  {
   "cell_type": "code",
   "execution_count": 12,
   "metadata": {},
   "outputs": [],
   "source": [
    "from keras.preprocessing.image import ImageDataGenerator\n",
    "train_datagen=ImageDataGenerator(rescale=1./255,shear_range=0.2,zoom_range=0.2,horizontal_flip=True)"
   ]
  },
  {
   "cell_type": "code",
   "execution_count": 13,
   "metadata": {},
   "outputs": [],
   "source": [
    "test_datagen=ImageDataGenerator(rescale=1./255)"
   ]
  },
  {
   "cell_type": "code",
   "execution_count": 14,
   "metadata": {},
   "outputs": [
    {
     "name": "stdout",
     "output_type": "stream",
     "text": [
      "Found 493 images belonging to 6 classes.\n"
     ]
    }
   ],
   "source": [
    "x_train=train_datagen.flow_from_directory(r\"C:\\Users\\SURESH KUMAR\\Desktop\\my\\trainingset\",target_size=(128,128),batch_size=32,class_mode='categorical')"
   ]
  },
  {
   "cell_type": "code",
   "execution_count": 15,
   "metadata": {},
   "outputs": [
    {
     "name": "stdout",
     "output_type": "stream",
     "text": [
      "Found 116 images belonging to 6 classes.\n"
     ]
    }
   ],
   "source": [
    "x_test=test_datagen.flow_from_directory(r\"C:\\Users\\SURESH KUMAR\\Desktop\\my\\test set\",target_size=(128,128),batch_size=32,class_mode='categorical')"
   ]
  },
  {
   "cell_type": "code",
   "execution_count": 16,
   "metadata": {},
   "outputs": [
    {
     "data": {
      "text/plain": [
       "{'bacterial leaf blight': 0,\n",
       " 'blast': 1,\n",
       " 'false smut': 2,\n",
       " 'normal': 3,\n",
       " 'rice tungro': 4,\n",
       " 'sheath blight': 5}"
      ]
     },
     "execution_count": 16,
     "metadata": {},
     "output_type": "execute_result"
    }
   ],
   "source": [
    "x_train.class_indices"
   ]
  },
  {
   "cell_type": "code",
   "execution_count": 17,
   "metadata": {},
   "outputs": [
    {
     "data": {
      "text/plain": [
       "{'bacterial leaf blight': 0,\n",
       " 'blast': 1,\n",
       " 'false smut': 2,\n",
       " 'normal': 3,\n",
       " 'rice tungro': 4,\n",
       " 'sheath blight': 5}"
      ]
     },
     "execution_count": 17,
     "metadata": {},
     "output_type": "execute_result"
    }
   ],
   "source": [
    "x_test.class_indices"
   ]
  },
  {
   "cell_type": "code",
   "execution_count": 18,
   "metadata": {
    "scrolled": false
   },
   "outputs": [
    {
     "name": "stdout",
     "output_type": "stream",
     "text": [
      "WARNING:tensorflow:From C:\\Users\\SURESH KUMAR\\Anaconda3\\lib\\site-packages\\tensorflow\\python\\ops\\math_ops.py:3066: to_int32 (from tensorflow.python.ops.math_ops) is deprecated and will be removed in a future version.\n",
      "Instructions for updating:\n",
      "Use tf.cast instead.\n"
     ]
    },
    {
     "name": "stderr",
     "output_type": "stream",
     "text": [
      "C:\\Users\\SURESH KUMAR\\Anaconda3\\lib\\site-packages\\ipykernel_launcher.py:1: UserWarning: The semantics of the Keras 2 argument `steps_per_epoch` is not the same as the Keras 1 argument `samples_per_epoch`. `steps_per_epoch` is the number of batches to draw from the generator at each epoch. Basically steps_per_epoch = samples_per_epoch/batch_size. Similarly `nb_val_samples`->`validation_steps` and `val_samples`->`steps` arguments have changed. Update your method calls accordingly.\n",
      "  \"\"\"Entry point for launching an IPython kernel.\n",
      "C:\\Users\\SURESH KUMAR\\Anaconda3\\lib\\site-packages\\ipykernel_launcher.py:1: UserWarning: Update your `fit_generator` call to the Keras 2 API: `fit_generator(<keras_pre..., epochs=100, validation_data=<keras_pre..., steps_per_epoch=15, validation_steps=116)`\n",
      "  \"\"\"Entry point for launching an IPython kernel.\n"
     ]
    },
    {
     "name": "stdout",
     "output_type": "stream",
     "text": [
      "Epoch 1/100\n",
      "15/15 [==============================] - 117s 8s/step - loss: 2.8633 - acc: 0.1708 - val_loss: 1.7689 - val_acc: 0.2241\n",
      "Epoch 2/100\n",
      "15/15 [==============================] - 87s 6s/step - loss: 1.7476 - acc: 0.2362 - val_loss: 1.7548 - val_acc: 0.2328\n",
      "Epoch 3/100\n",
      "15/15 [==============================] - 92s 6s/step - loss: 1.6308 - acc: 0.2919 - val_loss: 1.7556 - val_acc: 0.2672\n",
      "Epoch 4/100\n",
      "15/15 [==============================] - 103s 7s/step - loss: 1.6729 - acc: 0.3764 - val_loss: 1.7348 - val_acc: 0.3017\n",
      "Epoch 5/100\n",
      "15/15 [==============================] - 91s 6s/step - loss: 1.5702 - acc: 0.3652 - val_loss: 1.7500 - val_acc: 0.2845\n",
      "Epoch 6/100\n",
      "15/15 [==============================] - 97s 6s/step - loss: 1.5523 - acc: 0.3500 - val_loss: 1.6452 - val_acc: 0.3017\n",
      "Epoch 7/100\n",
      "15/15 [==============================] - 101s 7s/step - loss: 1.4389 - acc: 0.4489 - val_loss: 1.6555 - val_acc: 0.3448\n",
      "Epoch 8/100\n",
      "15/15 [==============================] - 98s 7s/step - loss: 1.3417 - acc: 0.5002 - val_loss: 1.7138 - val_acc: 0.2845\n",
      "Epoch 9/100\n",
      "15/15 [==============================] - 91s 6s/step - loss: 1.3102 - acc: 0.4941 - val_loss: 1.6349 - val_acc: 0.3362\n",
      "Epoch 10/100\n",
      "15/15 [==============================] - 96s 6s/step - loss: 1.3490 - acc: 0.4814 - val_loss: 1.6402 - val_acc: 0.3448\n",
      "Epoch 11/100\n",
      "15/15 [==============================] - 87s 6s/step - loss: 1.1707 - acc: 0.5518 - val_loss: 1.5499 - val_acc: 0.4138\n",
      "Epoch 12/100\n",
      "15/15 [==============================] - 91s 6s/step - loss: 1.1502 - acc: 0.5910 - val_loss: 1.7000 - val_acc: 0.3362\n",
      "Epoch 13/100\n",
      "15/15 [==============================] - 87s 6s/step - loss: 1.0842 - acc: 0.6090 - val_loss: 1.8621 - val_acc: 0.3793\n",
      "Epoch 14/100\n",
      "15/15 [==============================] - 86s 6s/step - loss: 1.0728 - acc: 0.6265 - val_loss: 1.7450 - val_acc: 0.3190\n",
      "Epoch 15/100\n",
      "15/15 [==============================] - 88s 6s/step - loss: 0.9744 - acc: 0.6497 - val_loss: 1.7995 - val_acc: 0.3707\n",
      "Epoch 16/100\n",
      "15/15 [==============================] - 88s 6s/step - loss: 0.9013 - acc: 0.7068 - val_loss: 1.8188 - val_acc: 0.3621\n",
      "Epoch 17/100\n",
      "15/15 [==============================] - 88s 6s/step - loss: 0.8169 - acc: 0.7125 - val_loss: 2.1122 - val_acc: 0.3793\n",
      "Epoch 18/100\n",
      "15/15 [==============================] - 87s 6s/step - loss: 0.8698 - acc: 0.6781 - val_loss: 1.9445 - val_acc: 0.3793\n",
      "Epoch 19/100\n",
      "15/15 [==============================] - 88s 6s/step - loss: 0.7771 - acc: 0.7045 - val_loss: 2.3636 - val_acc: 0.3879\n",
      "Epoch 20/100\n",
      "15/15 [==============================] - 102s 7s/step - loss: 0.6994 - acc: 0.7757 - val_loss: 2.4118 - val_acc: 0.3707\n",
      "Epoch 21/100\n",
      "15/15 [==============================] - 99s 7s/step - loss: 0.8330 - acc: 0.7032 - val_loss: 2.2551 - val_acc: 0.3276\n",
      "Epoch 22/100\n",
      "15/15 [==============================] - 89s 6s/step - loss: 0.6991 - acc: 0.7708 - val_loss: 2.2180 - val_acc: 0.4138\n",
      "Epoch 23/100\n",
      "15/15 [==============================] - 91s 6s/step - loss: 0.6169 - acc: 0.7909 - val_loss: 2.0423 - val_acc: 0.4310\n",
      "Epoch 24/100\n",
      "15/15 [==============================] - 91s 6s/step - loss: 0.5476 - acc: 0.8168 - val_loss: 2.1803 - val_acc: 0.4310\n",
      "Epoch 25/100\n",
      "15/15 [==============================] - 101s 7s/step - loss: 0.4832 - acc: 0.8335 - val_loss: 2.4968 - val_acc: 0.4138\n",
      "Epoch 26/100\n",
      "15/15 [==============================] - 88s 6s/step - loss: 0.5476 - acc: 0.8035 - val_loss: 2.2427 - val_acc: 0.3707\n",
      "Epoch 27/100\n",
      "15/15 [==============================] - 87s 6s/step - loss: 0.4859 - acc: 0.8363 - val_loss: 2.8053 - val_acc: 0.4052\n",
      "Epoch 28/100\n",
      "15/15 [==============================] - 86s 6s/step - loss: 0.5446 - acc: 0.8243 - val_loss: 2.3216 - val_acc: 0.5000\n",
      "Epoch 29/100\n",
      "15/15 [==============================] - 86s 6s/step - loss: 0.5173 - acc: 0.8285 - val_loss: 2.4217 - val_acc: 0.4224\n",
      "Epoch 30/100\n",
      "15/15 [==============================] - 87s 6s/step - loss: 0.4075 - acc: 0.8580 - val_loss: 2.6099 - val_acc: 0.4483\n",
      "Epoch 31/100\n",
      "15/15 [==============================] - 86s 6s/step - loss: 0.4268 - acc: 0.8559 - val_loss: 2.6717 - val_acc: 0.4052\n",
      "Epoch 32/100\n",
      "15/15 [==============================] - 87s 6s/step - loss: 0.4295 - acc: 0.8564 - val_loss: 2.7371 - val_acc: 0.4483\n",
      "Epoch 33/100\n",
      "15/15 [==============================] - 86s 6s/step - loss: 0.3578 - acc: 0.8875 - val_loss: 3.0159 - val_acc: 0.4483\n",
      "Epoch 34/100\n",
      "15/15 [==============================] - 93s 6s/step - loss: 0.4322 - acc: 0.8557 - val_loss: 2.3685 - val_acc: 0.4914\n",
      "Epoch 35/100\n",
      "15/15 [==============================] - 92s 6s/step - loss: 0.4137 - acc: 0.8773 - val_loss: 2.3041 - val_acc: 0.4914\n",
      "Epoch 36/100\n",
      "15/15 [==============================] - 89s 6s/step - loss: 0.3721 - acc: 0.8906 - val_loss: 2.4258 - val_acc: 0.4569\n",
      "Epoch 37/100\n",
      "15/15 [==============================] - 87s 6s/step - loss: 0.3799 - acc: 0.8676 - val_loss: 2.6194 - val_acc: 0.4741\n",
      "Epoch 38/100\n",
      "15/15 [==============================] - 88s 6s/step - loss: 0.3487 - acc: 0.9011 - val_loss: 2.7795 - val_acc: 0.4741\n",
      "Epoch 39/100\n",
      "15/15 [==============================] - 87s 6s/step - loss: 0.3280 - acc: 0.8927 - val_loss: 2.8240 - val_acc: 0.4224\n",
      "Epoch 40/100\n",
      "15/15 [==============================] - 87s 6s/step - loss: 0.3717 - acc: 0.8572 - val_loss: 2.7682 - val_acc: 0.4741\n",
      "Epoch 41/100\n",
      "15/15 [==============================] - 87s 6s/step - loss: 0.2867 - acc: 0.9011 - val_loss: 2.5042 - val_acc: 0.5000\n",
      "Epoch 42/100\n",
      "15/15 [==============================] - 86s 6s/step - loss: 0.3004 - acc: 0.9178 - val_loss: 2.6461 - val_acc: 0.4741\n",
      "Epoch 43/100\n",
      "15/15 [==============================] - 86s 6s/step - loss: 0.2993 - acc: 0.9045 - val_loss: 2.7068 - val_acc: 0.4569\n",
      "Epoch 44/100\n",
      "15/15 [==============================] - 89s 6s/step - loss: 0.2567 - acc: 0.9115 - val_loss: 2.8686 - val_acc: 0.4655\n",
      "Epoch 45/100\n",
      "15/15 [==============================] - 87s 6s/step - loss: 0.3584 - acc: 0.8773 - val_loss: 2.6412 - val_acc: 0.5000\n",
      "Epoch 46/100\n",
      "15/15 [==============================] - 88s 6s/step - loss: 0.2987 - acc: 0.9003 - val_loss: 2.4924 - val_acc: 0.5172\n",
      "Epoch 47/100\n",
      "15/15 [==============================] - 95s 6s/step - loss: 0.2581 - acc: 0.9107 - val_loss: 2.6639 - val_acc: 0.5000\n",
      "Epoch 48/100\n",
      "15/15 [==============================] - 90s 6s/step - loss: 0.3187 - acc: 0.9149 - val_loss: 2.4324 - val_acc: 0.4655\n",
      "Epoch 49/100\n",
      "15/15 [==============================] - 90s 6s/step - loss: 0.3011 - acc: 0.8854 - val_loss: 2.7485 - val_acc: 0.4828\n",
      "Epoch 50/100\n",
      "15/15 [==============================] - 90s 6s/step - loss: 0.3227 - acc: 0.8948 - val_loss: 2.4385 - val_acc: 0.4655\n",
      "Epoch 51/100\n",
      "15/15 [==============================] - 90s 6s/step - loss: 0.2994 - acc: 0.9183 - val_loss: 2.4533 - val_acc: 0.5086\n",
      "Epoch 52/100\n",
      "15/15 [==============================] - 95s 6s/step - loss: 0.2823 - acc: 0.9052 - val_loss: 2.7372 - val_acc: 0.4569\n",
      "Epoch 53/100\n",
      "15/15 [==============================] - 93s 6s/step - loss: 0.2133 - acc: 0.9303 - val_loss: 2.6953 - val_acc: 0.5000\n",
      "Epoch 54/100\n",
      "15/15 [==============================] - 94s 6s/step - loss: 0.2439 - acc: 0.9240 - val_loss: 2.9200 - val_acc: 0.4310\n",
      "Epoch 55/100\n",
      "15/15 [==============================] - 88s 6s/step - loss: 0.2738 - acc: 0.9157 - val_loss: 3.0654 - val_acc: 0.4655\n",
      "Epoch 56/100\n",
      "15/15 [==============================] - 87s 6s/step - loss: 0.2330 - acc: 0.9060 - val_loss: 2.8647 - val_acc: 0.4397\n",
      "Epoch 57/100\n",
      "15/15 [==============================] - 88s 6s/step - loss: 0.2541 - acc: 0.9066 - val_loss: 2.6539 - val_acc: 0.4828\n",
      "Epoch 58/100\n",
      "15/15 [==============================] - 91s 6s/step - loss: 0.2321 - acc: 0.9185 - val_loss: 2.4470 - val_acc: 0.4828\n",
      "Epoch 59/100\n",
      "15/15 [==============================] - 92s 6s/step - loss: 0.2252 - acc: 0.9220 - val_loss: 2.7791 - val_acc: 0.4569\n",
      "Epoch 60/100\n",
      "15/15 [==============================] - 89s 6s/step - loss: 0.2209 - acc: 0.9206 - val_loss: 2.9089 - val_acc: 0.4569\n",
      "Epoch 61/100\n",
      "15/15 [==============================] - 89s 6s/step - loss: 0.2419 - acc: 0.9178 - val_loss: 2.5256 - val_acc: 0.4741\n",
      "Epoch 62/100\n",
      "15/15 [==============================] - 88s 6s/step - loss: 0.1945 - acc: 0.9233 - val_loss: 2.7259 - val_acc: 0.4655\n",
      "Epoch 63/100\n"
     ]
    },
    {
     "name": "stdout",
     "output_type": "stream",
     "text": [
      "15/15 [==============================] - 88s 6s/step - loss: 0.2019 - acc: 0.9387 - val_loss: 2.9948 - val_acc: 0.4569\n",
      "Epoch 64/100\n",
      "15/15 [==============================] - 88s 6s/step - loss: 0.2082 - acc: 0.9282 - val_loss: 2.8423 - val_acc: 0.5086\n",
      "Epoch 65/100\n",
      "15/15 [==============================] - 89s 6s/step - loss: 0.2472 - acc: 0.9125 - val_loss: 2.4155 - val_acc: 0.5259\n",
      "Epoch 66/100\n",
      "15/15 [==============================] - 88s 6s/step - loss: 0.1806 - acc: 0.9275 - val_loss: 2.7154 - val_acc: 0.4914\n",
      "Epoch 67/100\n",
      "15/15 [==============================] - 88s 6s/step - loss: 0.2164 - acc: 0.9066 - val_loss: 2.7095 - val_acc: 0.4828\n",
      "Epoch 68/100\n",
      "15/15 [==============================] - 88s 6s/step - loss: 0.1718 - acc: 0.9353 - val_loss: 3.0211 - val_acc: 0.4397\n",
      "Epoch 69/100\n",
      "15/15 [==============================] - 88s 6s/step - loss: 0.1873 - acc: 0.9303 - val_loss: 2.8240 - val_acc: 0.4655\n",
      "Epoch 70/100\n",
      "15/15 [==============================] - 88s 6s/step - loss: 0.1830 - acc: 0.9387 - val_loss: 3.0984 - val_acc: 0.4310\n",
      "Epoch 71/100\n",
      "15/15 [==============================] - 87s 6s/step - loss: 0.2595 - acc: 0.9032 - val_loss: 2.8867 - val_acc: 0.4310\n",
      "Epoch 72/100\n",
      "15/15 [==============================] - 89s 6s/step - loss: 0.2055 - acc: 0.9316 - val_loss: 2.7321 - val_acc: 0.5000\n",
      "Epoch 73/100\n",
      "15/15 [==============================] - 89s 6s/step - loss: 0.1573 - acc: 0.9394 - val_loss: 2.8630 - val_acc: 0.5000\n",
      "Epoch 74/100\n",
      "15/15 [==============================] - 88s 6s/step - loss: 0.2096 - acc: 0.9282 - val_loss: 2.5286 - val_acc: 0.4741\n",
      "Epoch 75/100\n",
      "15/15 [==============================] - 88s 6s/step - loss: 0.1200 - acc: 0.9520 - val_loss: 3.0597 - val_acc: 0.4914\n",
      "Epoch 76/100\n",
      "15/15 [==============================] - 90s 6s/step - loss: 0.2154 - acc: 0.9295 - val_loss: 2.7093 - val_acc: 0.4569\n",
      "Epoch 77/100\n",
      "15/15 [==============================] - 90s 6s/step - loss: 0.1631 - acc: 0.9373 - val_loss: 2.7767 - val_acc: 0.5086\n",
      "Epoch 78/100\n",
      "15/15 [==============================] - 91s 6s/step - loss: 0.1913 - acc: 0.9295 - val_loss: 2.7606 - val_acc: 0.4828\n",
      "Epoch 79/100\n",
      "15/15 [==============================] - 92s 6s/step - loss: 0.1485 - acc: 0.9540 - val_loss: 2.6132 - val_acc: 0.5086\n",
      "Epoch 80/100\n",
      "15/15 [==============================] - 89s 6s/step - loss: 0.1246 - acc: 0.9470 - val_loss: 2.7873 - val_acc: 0.4914\n",
      "Epoch 81/100\n",
      "15/15 [==============================] - 90s 6s/step - loss: 0.1962 - acc: 0.9375 - val_loss: 2.6362 - val_acc: 0.4828\n",
      "Epoch 82/100\n",
      "15/15 [==============================] - 95s 6s/step - loss: 0.1541 - acc: 0.9387 - val_loss: 2.8122 - val_acc: 0.4655\n",
      "Epoch 83/100\n",
      "15/15 [==============================] - 93s 6s/step - loss: 0.1603 - acc: 0.9554 - val_loss: 2.6666 - val_acc: 0.4655\n",
      "Epoch 84/100\n",
      "15/15 [==============================] - ETA: 0s - loss: 0.1763 - acc: 0.940 - 98s 7s/step - loss: 0.1698 - acc: 0.9428 - val_loss: 2.8256 - val_acc: 0.4741\n",
      "Epoch 85/100\n",
      "15/15 [==============================] - 104s 7s/step - loss: 0.1353 - acc: 0.9470 - val_loss: 2.9889 - val_acc: 0.4655\n",
      "Epoch 86/100\n",
      "15/15 [==============================] - 101s 7s/step - loss: 0.1744 - acc: 0.9240 - val_loss: 2.5575 - val_acc: 0.5086\n",
      "Epoch 87/100\n",
      "15/15 [==============================] - 97s 6s/step - loss: 0.1996 - acc: 0.9073 - val_loss: 2.7219 - val_acc: 0.4655\n",
      "Epoch 88/100\n",
      "15/15 [==============================] - 94s 6s/step - loss: 0.1650 - acc: 0.9275 - val_loss: 2.8674 - val_acc: 0.4828\n",
      "Epoch 89/100\n",
      "15/15 [==============================] - 92s 6s/step - loss: 0.1383 - acc: 0.9512 - val_loss: 2.5569 - val_acc: 0.4741\n",
      "Epoch 90/100\n",
      "15/15 [==============================] - 92s 6s/step - loss: 0.1858 - acc: 0.9246 - val_loss: 2.7994 - val_acc: 0.4914\n",
      "Epoch 91/100\n",
      "15/15 [==============================] - 90s 6s/step - loss: 0.1511 - acc: 0.9408 - val_loss: 3.0856 - val_acc: 0.4914\n",
      "Epoch 92/100\n",
      "15/15 [==============================] - 86s 6s/step - loss: 0.1344 - acc: 0.9428 - val_loss: 2.9342 - val_acc: 0.5000\n",
      "Epoch 93/100\n",
      "15/15 [==============================] - 87s 6s/step - loss: 0.1358 - acc: 0.9449 - val_loss: 2.9256 - val_acc: 0.4914\n",
      "Epoch 94/100\n",
      "15/15 [==============================] - 86s 6s/step - loss: 0.1368 - acc: 0.9512 - val_loss: 2.4805 - val_acc: 0.5086\n",
      "Epoch 95/100\n",
      "15/15 [==============================] - 90s 6s/step - loss: 0.1369 - acc: 0.9358 - val_loss: 3.0808 - val_acc: 0.4569\n",
      "Epoch 96/100\n",
      "15/15 [==============================] - 86s 6s/step - loss: 0.1723 - acc: 0.9436 - val_loss: 2.5611 - val_acc: 0.4828\n",
      "Epoch 97/100\n",
      "15/15 [==============================] - 87s 6s/step - loss: 0.1361 - acc: 0.9458 - val_loss: 3.1466 - val_acc: 0.4828\n",
      "Epoch 98/100\n",
      "15/15 [==============================] - 92s 6s/step - loss: 0.1723 - acc: 0.9261 - val_loss: 2.5258 - val_acc: 0.4914\n",
      "Epoch 99/100\n",
      "15/15 [==============================] - 86s 6s/step - loss: 0.1473 - acc: 0.9428 - val_loss: 3.0765 - val_acc: 0.4655\n",
      "Epoch 100/100\n",
      "15/15 [==============================] - 86s 6s/step - loss: 0.1726 - acc: 0.9240 - val_loss: 2.6752 - val_acc: 0.5086\n"
     ]
    },
    {
     "data": {
      "text/plain": [
       "<keras.callbacks.History at 0x25616b77f28>"
      ]
     },
     "execution_count": 18,
     "metadata": {},
     "output_type": "execute_result"
    }
   ],
   "source": [
    "model_cnn.fit_generator(x_train,samples_per_epoch=493,epochs=100,validation_data=x_test,nb_val_samples=116)"
   ]
  },
  {
   "cell_type": "code",
   "execution_count": 19,
   "metadata": {},
   "outputs": [],
   "source": [
    "model_cnn.save(\"model.h5\")\n"
   ]
  },
  {
   "cell_type": "code",
   "execution_count": null,
   "metadata": {},
   "outputs": [],
   "source": []
  }
 ],
 "metadata": {
  "kernelspec": {
   "display_name": "Python 3",
   "language": "python",
   "name": "python3"
  },
  "language_info": {
   "codemirror_mode": {
    "name": "ipython",
    "version": 3
   },
   "file_extension": ".py",
   "mimetype": "text/x-python",
   "name": "python",
   "nbconvert_exporter": "python",
   "pygments_lexer": "ipython3",
   "version": "3.7.3"
  }
 },
 "nbformat": 4,
 "nbformat_minor": 2
}
